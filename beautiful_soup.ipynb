{
 "cells": [
  {
   "cell_type": "code",
   "execution_count": 13,
   "metadata": {},
   "outputs": [],
   "source": [
    "from bs4 import BeautifulSoup\n",
    "import requests\n",
    "import time\n",
    "import csv\n",
    "\n",
    "response = requests.get('https://www.imdb.com/chart/top')\n",
    "\n",
    "\n",
    "soup = BeautifulSoup(response.text, 'lxml')\n",
    "mname, myear, mrating, mdirector, mlink = list(), list(), list(), list(), list()\n",
    "movie = soup.find_all(class_='titleColumn') \n",
    "movie_rating = soup.find_all(class_=\"ratingColumn imdbRating\")\n",
    "for a, b in zip(movie, movie_rating):\n",
    "    mname.append(a.a.text)   #appending movie name to list mname\n",
    "    myear.append(a.span.text[1:5])   #appending movie release year to list myear\n",
    "    mrating.append(b.strong.text)    #appending rating to list mrating\n",
    "    i = a.a.get('title').find('(')\n",
    "    mdirector.append(a.a.get('title')[:i])   # appending director name\n",
    "    url = a.a.get('href')\n",
    "    url = \"http://www.imdb.com\" + url   #concatenating url to make it working\n",
    "    mlink.append(url)  \n",
    "\n",
    "\n",
    "with open('IMDb.csv', 'w', encoding=\"utf-8\", newline='') as csvfile:\n",
    "    writer = csv.writer(csvfile)\n",
    "    writer.writerow(\n",
    "        ['Movie Name', 'Ratings', 'Year of Release', 'Movie link', 'Director'])\n",
    "    for a, b, c, d, e in zip(mname, mrating, myear, mlink, mdirector):\n",
    "        writer.writerow(\n",
    "            [a.strip(), b.strip(), c.strip(), d.strip(), e.strip()])\n"
   ]
  },
  {
   "cell_type": "code",
   "execution_count": null,
   "metadata": {},
   "outputs": [],
   "source": []
  },
  {
   "cell_type": "code",
   "execution_count": null,
   "metadata": {},
   "outputs": [],
   "source": []
  },
  {
   "cell_type": "code",
   "execution_count": null,
   "metadata": {},
   "outputs": [],
   "source": []
  }
 ],
 "metadata": {
  "kernelspec": {
   "display_name": "Python 3",
   "language": "python",
   "name": "python3"
  },
  "language_info": {
   "codemirror_mode": {
    "name": "ipython",
    "version": 3
   },
   "file_extension": ".py",
   "mimetype": "text/x-python",
   "name": "python",
   "nbconvert_exporter": "python",
   "pygments_lexer": "ipython3",
   "version": "3.7.5"
  }
 },
 "nbformat": 4,
 "nbformat_minor": 2
}
